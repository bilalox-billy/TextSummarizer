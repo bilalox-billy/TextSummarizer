{
 "cells": [
  {
   "cell_type": "markdown",
   "id": "637a1ba4",
   "metadata": {},
   "source": [
    "### Data Transformation"
   ]
  },
  {
   "cell_type": "code",
   "execution_count": 1,
   "id": "31bc297c",
   "metadata": {},
   "outputs": [
    {
     "data": {
      "text/plain": [
       "'d:\\\\2025-courses\\\\mlops\\\\TextSummarizer\\\\research'"
      ]
     },
     "execution_count": 1,
     "metadata": {},
     "output_type": "execute_result"
    }
   ],
   "source": [
    "import os\n",
    "%pwd"
   ]
  },
  {
   "cell_type": "code",
   "execution_count": 2,
   "id": "560046ee",
   "metadata": {},
   "outputs": [
    {
     "data": {
      "text/plain": [
       "'d:\\\\2025-courses\\\\mlops\\\\TextSummarizer'"
      ]
     },
     "execution_count": 2,
     "metadata": {},
     "output_type": "execute_result"
    }
   ],
   "source": [
    "os.chdir('../')\n",
    "%pwd"
   ]
  },
  {
   "cell_type": "code",
   "execution_count": 3,
   "id": "c493be4a",
   "metadata": {},
   "outputs": [],
   "source": [
    "from dataclasses import dataclass\n",
    "from src.textSummarizer.logging import logger\n",
    "from pathlib import Path\n",
    "\n",
    "\n",
    "# Parameers must be mathced with config.yaml file\n",
    "@dataclass\n",
    "class DataTransformationConfig:\n",
    "    root_dir: Path\n",
    "    data_path: Path\n",
    "    tokenizer_name: str"
   ]
  },
  {
   "cell_type": "code",
   "execution_count": 4,
   "id": "09e9b6d6",
   "metadata": {},
   "outputs": [],
   "source": [
    "from src.textSummarizer.constants import *\n",
    "from src.textSummarizer.utils.common import read_yaml, create_directories"
   ]
  },
  {
   "cell_type": "code",
   "execution_count": 9,
   "id": "6992a069",
   "metadata": {},
   "outputs": [],
   "source": [
    "class configurationManger:\n",
    "    def __init__(self,config_path=CONFIG_FILE_PATH,params_path=PARAMS_FILE_PATH):\n",
    "        self.config = read_yaml(config_path)\n",
    "        self.params = read_yaml(params_path)\n",
    "        create_directories([self.config.artifacts_root])\n",
    "    \n",
    "    def get_data_transformation_config(self) -> DataTransformationConfig:\n",
    "        config = self.config.data_transformation\n",
    "        create_directories([config.root_dir])\n",
    "        data_transformation_config = DataTransformationConfig(\n",
    "            root_dir=config.root_dir,\n",
    "            data_path=config.data_path,\n",
    "            tokenizer_name=config.tokenizer_name\n",
    "        )\n",
    "\n",
    "        return data_transformation_config"
   ]
  },
  {
   "cell_type": "code",
   "execution_count": 10,
   "id": "82449ad3",
   "metadata": {},
   "outputs": [],
   "source": [
    "import os\n",
    "from src.textSummarizer.logging import logger\n",
    "\n",
    "from transformers import AutoTokenizer\n",
    "from datasets import load_from_disk"
   ]
  },
  {
   "cell_type": "markdown",
   "id": "d9142576",
   "metadata": {},
   "source": [
    "### Data Transformation Component"
   ]
  },
  {
   "cell_type": "code",
   "execution_count": 11,
   "id": "18fe5a2b",
   "metadata": {},
   "outputs": [],
   "source": [
    "class DataTransformation:\n",
    "    def __init__(self,config:DataTransformationConfig):\n",
    "        self.config=config\n",
    "        self.tokenizer=AutoTokenizer.from_pretrained(config.tokenizer_name)\n",
    "\n",
    "    def convert_examples_to_features(self,example_batch):\n",
    "        input_encodings = self.tokenizer(example_batch['dialogue'] , max_length = 1024, truncation = True )\n",
    "\n",
    "        with self.tokenizer.as_target_tokenizer():\n",
    "            target_encodings = self.tokenizer(example_batch['summary'], max_length = 128, truncation = True )\n",
    "\n",
    "        return {\n",
    "            'input_ids' : input_encodings['input_ids'],\n",
    "            'attention_mask': input_encodings['attention_mask'],\n",
    "            'labels': target_encodings['input_ids']\n",
    "        }\n",
    "    \n",
    "    def convert(self):\n",
    "        dataset_samsum = load_from_disk(self.config.data_path)\n",
    "        dataset_samsum_pt = dataset_samsum.map(self.convert_examples_to_features, batched = True)\n",
    "        dataset_samsum_pt.save_to_disk(os.path.join(self.config.root_dir,\"samsum_dataset\"))"
   ]
  },
  {
   "cell_type": "code",
   "execution_count": 13,
   "id": "376b62f5",
   "metadata": {},
   "outputs": [
    {
     "name": "stdout",
     "output_type": "stream",
     "text": [
      "[2025-09-28 07:08:46,636: INFO:  common: yaml file: config\\config.yaml loaded successfully]\n",
      "[2025-09-28 07:08:46,638: INFO:  common: yaml file: params.yaml loaded successfully]\n",
      "[2025-09-28 07:08:46,639: INFO:  common: created directory at: artifacts]\n",
      "[2025-09-28 07:08:46,640: INFO:  common: created directory at: artifacts/data_transformation]\n"
     ]
    },
    {
     "name": "stderr",
     "output_type": "stream",
     "text": [
      "Map:   0%|          | 0/14732 [00:00<?, ? examples/s]d:\\2025-courses\\mlops\\TextSummarizer\\venv\\lib\\site-packages\\transformers\\tokenization_utils_base.py:4007: UserWarning: `as_target_tokenizer` is deprecated and will be removed in v5 of Transformers. You can tokenize your labels by using the argument `text_target` of the regular `__call__` method (either in the same call as your input texts if you use the same keyword arguments, or in a separate call.\n",
      "  warnings.warn(\n",
      "Map: 100%|██████████| 14732/14732 [00:02<00:00, 6355.10 examples/s]\n",
      "Map: 100%|██████████| 819/819 [00:00<00:00, 5565.60 examples/s]\n",
      "Map: 100%|██████████| 818/818 [00:00<00:00, 3110.28 examples/s]\n",
      "Saving the dataset (1/1 shards): 100%|██████████| 14732/14732 [00:00<00:00, 101600.85 examples/s]\n",
      "Saving the dataset (1/1 shards): 100%|██████████| 819/819 [00:00<00:00, 90939.14 examples/s] \n",
      "Saving the dataset (1/1 shards): 100%|██████████| 818/818 [00:00<00:00, 116857.65 examples/s]\n"
     ]
    }
   ],
   "source": [
    "config=configurationManger()\n",
    "data_transformation_config=config.get_data_transformation_config()\n",
    "data_transformation = DataTransformation(data_transformation_config)\n",
    "data_transformation.convert()"
   ]
  },
  {
   "cell_type": "markdown",
   "id": "d1b083bc",
   "metadata": {},
   "source": [
    "## Clear Cache Options\n",
    "\n",
    "Here are different ways to clear cache in Jupyter notebooks:"
   ]
  },
  {
   "cell_type": "code",
   "execution_count": 19,
   "id": "f0db0d31",
   "metadata": {},
   "outputs": [],
   "source": [
    "# 1. Clear Python __pycache__ directories\n",
    "import os\n",
    "import shutil\n",
    "\n",
    "def clear_pycache():\n",
    "    \"\"\"Clear all __pycache__ directories in the project\"\"\"\n",
    "    for root, dirs, files in os.walk('.'):\n",
    "        if '__pycache__' in dirs:\n",
    "            pycache_path = os.path.join(root, '__pycache__')\n",
    "            print(f\"Removing: {pycache_path}\")\n",
    "            shutil.rmtree(pycache_path)\n",
    "    print(\"All __pycache__ directories cleared!\")\n",
    "\n",
    "# Uncomment to run:\n",
    "# clear_pycache()"
   ]
  },
  {
   "cell_type": "code",
   "execution_count": 20,
   "id": "65c894ac",
   "metadata": {},
   "outputs": [],
   "source": [
    "# 2. Clear Hugging Face transformers cache\n",
    "from transformers import AutoTokenizer\n",
    "import torch\n",
    "\n",
    "def clear_transformers_cache():\n",
    "    \"\"\"Clear Hugging Face transformers cache\"\"\"\n",
    "    try:\n",
    "        # Clear tokenizer cache\n",
    "        if hasattr(AutoTokenizer, 'clear_cache'):\n",
    "            AutoTokenizer.clear_cache()\n",
    "        \n",
    "        # Clear PyTorch cache if using GPU\n",
    "        if torch.cuda.is_available():\n",
    "            torch.cuda.empty_cache()\n",
    "            print(\"GPU cache cleared!\")\n",
    "        \n",
    "        print(\"Transformers cache cleared!\")\n",
    "    except Exception as e:\n",
    "        print(f\"Error clearing cache: {e}\")\n",
    "\n",
    "# Uncomment to run:\n",
    "# clear_transformers_cache()"
   ]
  },
  {
   "cell_type": "code",
   "execution_count": 21,
   "id": "e636b79a",
   "metadata": {},
   "outputs": [
    {
     "name": "stdout",
     "output_type": "stream",
     "text": [
      "To restart kernel: Kernel -> Restart & Clear Output\n",
      "To clear variables only: %reset -f\n"
     ]
    }
   ],
   "source": [
    "# 3. Restart Jupyter kernel (clears all variables and imports)\n",
    "# Use: Kernel -> Restart in the menu\n",
    "# Or use magic command:\n",
    "# %reset -f  # This will clear all variables\n",
    "\n",
    "print(\"To restart kernel: Kernel -> Restart & Clear Output\")\n",
    "print(\"To clear variables only: %reset -f\")"
   ]
  },
  {
   "cell_type": "code",
   "execution_count": 22,
   "id": "93660224",
   "metadata": {},
   "outputs": [],
   "source": [
    "# 4. Clear datasets cache\n",
    "def clear_datasets_cache():\n",
    "    \"\"\"Clear datasets library cache\"\"\"\n",
    "    try:\n",
    "        from datasets import disable_caching, enable_caching\n",
    "        \n",
    "        # Disable caching temporarily\n",
    "        disable_caching()\n",
    "        print(\"Dataset caching disabled!\")\n",
    "        \n",
    "        # To re-enable later:\n",
    "        # enable_caching()\n",
    "        \n",
    "    except ImportError:\n",
    "        print(\"datasets library not available\")\n",
    "\n",
    "# Uncomment to run:\n",
    "# clear_datasets_cache()"
   ]
  },
  {
   "cell_type": "markdown",
   "id": "f0d5516e",
   "metadata": {},
   "source": [
    "### Quick Cache Clear Commands\n",
    "\n",
    "**Most Common Options:**\n",
    "\n",
    "1. **Restart Kernel**: `Kernel → Restart & Clear Output` (clears all variables)\n",
    "2. **Clear Variables**: `%reset -f` (keeps imports)\n",
    "3. **Clear GPU Memory**: `torch.cuda.empty_cache()` (if using GPU)\n",
    "4. **Clear Python Cache**: Run the `clear_pycache()` function above\n",
    "\n",
    "**For your TextSummarizer project**, the most useful would be:\n",
    "- Restart kernel to clear memory\n",
    "- Clear __pycache__ files to remove compiled Python files"
   ]
  }
 ],
 "metadata": {
  "kernelspec": {
   "display_name": "venv",
   "language": "python",
   "name": "python3"
  },
  "language_info": {
   "codemirror_mode": {
    "name": "ipython",
    "version": 3
   },
   "file_extension": ".py",
   "mimetype": "text/x-python",
   "name": "python",
   "nbconvert_exporter": "python",
   "pygments_lexer": "ipython3",
   "version": "3.10.11"
  }
 },
 "nbformat": 4,
 "nbformat_minor": 5
}
